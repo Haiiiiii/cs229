{
 "cells": [
  {
   "cell_type": "markdown",
   "metadata": {},
   "source": [
    "Problem 4a.\n",
    "- We have:\n",
    "\\begin{align*}\n",
    "\\frac{\\partial}{\\partial \\eta}\\int p(y;\\eta)dy &= \\int \\frac{\\partial}{\\partial \\eta}p(y;\\eta)dy \\\\\n",
    "\\frac{\\partial}{\\partial \\eta} 1 &= \\int \\frac{\\partial}{\\partial \\eta} b(y) \\exp(\\eta T(y) - a(\\eta))dy \\\\\n",
    "0 &= \\int b(y) (T(y) - \\frac{\\partial}{\\partial \\eta}a(\\eta))\\exp(\\eta T(y) - a(\\eta))dy \\\\\n",
    "0&= \\int T(y)b(y)\\exp(\\eta T(y) - a(\\eta))dy -\\frac{\\partial}{\\partial \\eta}a(\\eta)\\int b(y)\\exp(\\eta T(y) - a(\\eta))dy \\\\\n",
    "0&= \\mathbb{E}[Y|X;\\theta] - \\frac{\\partial}{\\partial \\eta}a(\\eta) \\\\\n",
    "&\\Rightarrow \\mathbb{E}[Y|X;\\theta] = \\frac{\\partial}{\\partial \\eta}a(\\eta)\n",
    "\\end{align*}"
   ]
  },
  {
   "cell_type": "markdown",
   "metadata": {},
   "source": []
  }
 ],
 "metadata": {
  "language_info": {
   "name": "python"
  }
 },
 "nbformat": 4,
 "nbformat_minor": 2
}
