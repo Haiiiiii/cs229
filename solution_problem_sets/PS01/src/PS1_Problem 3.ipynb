{
 "cells": [
  {
   "cell_type": "markdown",
   "metadata": {},
   "source": [
    "Problem 3a.\n",
    "- Consider the Poison distribution:\n",
    "\\begin{equation*}\n",
    "p(y;\\lambda) = \\frac{e^{-\\lambda}\\lambda^y}{y!} = \\frac{1}{y!}\\exp(-\\lambda+\\log\\lambda^y) = \\frac{1}{y!}\\exp(y\\log\\lambda-\\lambda)\n",
    "\\end{equation*}\n",
    "- Therefore, we come up with the result:\n",
    "\\begin{align*}\n",
    "\\eta &= \\log\\lambda \\\\ \n",
    "T(y) &= y \\\\\n",
    "b(y) &= \\frac{1}{y!} \\\\\n",
    "a(\\eta) &= \\lambda = e^{\\eta}\n",
    "\\end{align*}"
   ]
  },
  {
   "cell_type": "markdown",
   "metadata": {},
   "source": [
    "Problem 3b. Calonical repsone function:\n",
    "\\begin{equation*}\n",
    "E[T(y)|\\eta] = E[y|\\eta] = \\lambda = e^{\\eta}\n",
    "\\end{equation*}"
   ]
  },
  {
   "cell_type": "markdown",
   "metadata": {},
   "source": [
    "Problem 3c.\n",
    "- We have:\n",
    "    + $E[y|x;\\theta] = E[y|\\eta] = b(y)\\exp(\\eta^TT(y)-a(\\eta))$\n",
    "    + $\\eta = \\theta^Tx$\n",
    "\n",
    "- Therefore:\n",
    "\\begin{align*}\n",
    "\\ell(\\theta) = \\log p(y^{(i)}|x^{(i)},\\theta) &= \\log(b(y)) +  \\eta^TT(y)-a(\\eta)\n",
    "\\end{align*}\n",
    "\n",
    "- Calculate the partial of $\\ell$ with $\\theta$:\n",
    "\n",
    "\\begin{align*}\n",
    "\\frac{\\partial}{\\partial \\theta} \\ell(\\theta) &= T(y^{(i)})\\frac{\\partial}{\\partial \\theta}\\theta^Tx^{(i)} - e^{\\theta^Tx^{(i)}}\\frac{\\partial}{\\partial \\theta}\\theta^Tx^{(i)} \\\\\n",
    "&= \\left(T(y^{(i)})-e^{\\theta^Tx^{(i)}}\\right)x^{(i)} \\\\\n",
    "&= \\left(y^{(i)}-e^{\\theta^Tx^{(i)}}\\right)x^{(i)} \n",
    "\\end{align*}\n",
    "- Therefore, the gradient ascent of this is:\n",
    "\\begin{align*}\n",
    "\\theta := \\theta + \\alpha \\left(y^{(i)}-e^{\\theta^Tx^{(i)}}\\right)x^{(i)} \n",
    "\\end{align*}"
   ]
  },
  {
   "cell_type": "code",
   "execution_count": 3,
   "metadata": {},
   "outputs": [],
   "source": [
    "import numpy as np\n",
    "from util import *\n",
    "import matplotlib.pyplot as plt\n",
    "from linear_model import LinearModel"
   ]
  },
  {
   "cell_type": "code",
   "execution_count": 5,
   "metadata": {},
   "outputs": [],
   "source": [
    "class PoissonRegression(LinearModel):\n",
    "    \"\"\"Poisson Regression.\n",
    "\n",
    "    Example usage:\n",
    "        > clf = PoissonRegression(step_size=lr)\n",
    "        > clf.fit(x_train, y_train)\n",
    "        > clf.predict(x_eval)\n",
    "    \"\"\"\n",
    "\n",
    "    def fit(self, x, y):\n",
    "        \"\"\"Run gradient ascent to maximize likelihood for Poisson regression.\n",
    "\n",
    "        Args:\n",
    "            x: Training example inputs. Shape (m, n).\n",
    "            y: Training example labels. Shape (m,).\n",
    "        \"\"\"\n",
    "        # *** START CODE HERE ***\n",
    "        m, n = x.shape\n",
    "        \n",
    "        self.theta = np.zeros(n)\n",
    "\n",
    "        for _ in range(self.max_iter):\n",
    "            theta_old = np.copy(self.theta)\n",
    "            self.theta += self.step_size * x.T @ (y - np.exp(x@theta_old))\n",
    "            if np.linalg.norm(self.theta-theta_old, ord=1) < self.eps:\n",
    "                break\n",
    "\n",
    "        # *** END CODE HERE ***\n",
    "\n",
    "    def predict(self, x):\n",
    "        \"\"\"Make a prediction given inputs x.\n",
    "\n",
    "        Args:\n",
    "            x: Inputs of shape (m, n).\n",
    "\n",
    "        Returns:\n",
    "            Floating-point prediction for each input, shape (m,).\n",
    "        \"\"\"\n",
    "        # *** START CODE HERE ***\n",
    "        return np.exp(x@self.theta)\n",
    "        # *** END CODE HERE ***"
   ]
  },
  {
   "cell_type": "code",
   "execution_count": 6,
   "metadata": {},
   "outputs": [
    {
     "name": "stdout",
     "output_type": "stream",
     "text": [
      "Theta = [7.3663442  3.93318364 3.43316055 2.00016609 4.40044556]\n",
      "Accuracy =  1912.955730380572\n"
     ]
    },
    {
     "data": {
      "image/png": "[encoded data removed]",
      "text/plain": [
       "<Figure size 432x288 with 1 Axes>"
      ]
     },
     "metadata": {
      "needs_background": "light"
     },
     "output_type": "display_data"
    }
   ],
   "source": [
    "train_path = \"/Users/tranlehai/Desktop/cs229/solution_problem_sets/PS01/data/ds4_train.csv\"\n",
    "valid_path = \"/Users/tranlehai/Desktop/cs229/solution_problem_sets/PS01/data/ds4_valid.csv\"\n",
    "\n",
    "x_valid, y_valid = load_dataset(valid_path, add_intercept=True)\n",
    "x_train, y_train = load_dataset(train_path, add_intercept=True)\n",
    "pois = PoissonRegression(step_size=4e-11, max_iter = 10000)\n",
    "pois.fit(x_train, y_train)\n",
    "\n",
    "plt.plot(pois.predict(x_valid), \"ro\")\n",
    "plt.plot(y_valid, \"x\")\n",
    "print(\"Theta =\",pois.theta)\n",
    "print(\"Accuracy = \", np.mean(np.sqrt(np.mean((pois.predict(x_train) - y_train)**2))))"
   ]
  },
  {
   "cell_type": "code",
   "execution_count": 7,
   "metadata": {},
   "outputs": [
    {
     "data": {
      "text/plain": [
       "1965.9864026431082"
      ]
     },
     "execution_count": 7,
     "metadata": {},
     "output_type": "execute_result"
    }
   ],
   "source": [
    "np.sqrt(np.mean((pois.predict(x_valid) - y_valid)**2))"
   ]
  }
 ],
 "metadata": {
  "kernelspec": {
   "display_name": "base",
   "language": "python",
   "name": "python3"
  },
  "language_info": {
   "codemirror_mode": {
    "name": "ipython",
    "version": 3
   },
   "file_extension": ".py",
   "mimetype": "text/x-python",
   "name": "python",
   "nbconvert_exporter": "python",
   "pygments_lexer": "ipython3",
   "version": "3.9.12"
  }
 },
 "nbformat": 4,
 "nbformat_minor": 2
}
